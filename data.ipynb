{
 "cells": [
  {
   "attachments": {},
   "cell_type": "markdown",
   "metadata": {},
   "source": [
    "# **<u>Data Set Loading</u>**"
   ]
  },
  {
   "cell_type": "code",
   "execution_count": 75,
   "metadata": {},
   "outputs": [],
   "source": [
    "import numpy as np"
   ]
  },
  {
   "cell_type": "code",
   "execution_count": 76,
   "metadata": {},
   "outputs": [
    {
     "data": {
      "text/plain": [
       "array([0, 1, 2])"
      ]
     },
     "execution_count": 76,
     "metadata": {},
     "output_type": "execute_result"
    }
   ],
   "source": [
    "np.arange(0,3)"
   ]
  },
  {
   "cell_type": "code",
   "execution_count": 77,
   "metadata": {},
   "outputs": [],
   "source": [
    "import tabula as tb\n",
    "from tabula import convert_into as ci\n",
    "import pandas as pd"
   ]
  },
  {
   "cell_type": "code",
   "execution_count": 78,
   "metadata": {},
   "outputs": [],
   "source": [
    "df = tb.read_pdf(\"dataset_pdf/ac2022.pdf\", encoding='latin-1', pages='all')[0]"
   ]
  },
  {
   "cell_type": "code",
   "execution_count": 79,
   "metadata": {},
   "outputs": [
    {
     "name": "stdout",
     "output_type": "stream",
     "text": [
      "    S NO  APPLN\\rNO   NAME OF THE CANDIDATE         DOB  AGGR\\rMARK  RANK  \\\n",
      "0      1     331205              Renjitha K  14-10-2004         200     1   \n",
      "1      2     325132         Lokesh Kannan M  04-09-2004         200     3   \n",
      "2      3     269347           PRATEEKSHAA T  21-09-2004         200     6   \n",
      "3      4     289687              PAVITHRA B  08-10-2004         200     7   \n",
      "4      5     323336              HARIGURU J  09-09-2004         200     8   \n",
      "5      6     210660          MADHUBAALIKA M  14-09-2004         200     9   \n",
      "6      7     252764             SHARUKESH K  23-02-2005         200    10   \n",
      "7      8     318554           RAMYA MEENA M  06-08-2004         200    11   \n",
      "8      9     395088       M KARTHIK KRISHNA  10-06-2004         200    13   \n",
      "9     10     317150          VISVESSWAR A M  31-10-2004         200    14   \n",
      "10    11     338638           KIRUTHIGA P M  17-11-2004         200    15   \n",
      "11    12     294093         KARTHICK RAJA R  18-11-2004         200    17   \n",
      "12    13     205679              Ramyaa A P  19-08-2004         200    18   \n",
      "13    14     235064               VIGNESH A  31-10-2004         200    19   \n",
      "14    15     291381      SOWMIYA SUNDARAM G  02-09-2004         200    20   \n",
      "15    16     252017             Sangeetha.S  29-11-2004         200    21   \n",
      "16    17     324559         SIVANIPRIYA P S  15-06-2005         200    22   \n",
      "17    18     283391              AHALYA V S  28-05-2005         200    23   \n",
      "18    19     302352               JASMINE A  05-12-2004         200    24   \n",
      "19    20     311775                DEEPAK S  10-02-2005         200    25   \n",
      "20    21     224065           SHYAM ARJUN A  10-02-2004         200    26   \n",
      "21    22     315985   SUBHASH KRISHNASAMY K  26-07-2005         200    27   \n",
      "22    23     311701          SELVA GANESH S  18-09-2004         200    28   \n",
      "23    24     215665                  Swetha  26-07-2005         200    30   \n",
      "24    25     227023            BRAGADEESH V  01-06-2005         200    31   \n",
      "25    26     294824               SHRIRAM.G  02-04-2005         200    32   \n",
      "26    27     275572         RAM PRASATH K V  12-03-2004         200    33   \n",
      "27    28     327533               BRINDHA B  05-03-2005         200    35   \n",
      "28    29     288370             LAVANYA S R  08-05-2005         200    36   \n",
      "29    30     269079    SHREYAS RAMANATHAN A  06-01-2005         200    38   \n",
      "30    31     293015               VENIZHA R  02-08-2005         200    39   \n",
      "31    32     284191  NALINAKSHAA KARTIKKA G  30-06-2004         200    41   \n",
      "32    33     387189           MATHUMITHA.MA  17-08-2004         200    42   \n",
      "33    34     272029               SANJENA G  01-06-2005         200    43   \n",
      "34    35     315595    DHARANI SENGOTTUVELU  22-11-2004         200    44   \n",
      "35    36     360565                PRANAV V  12-01-2004         200    45   \n",
      "36    37     394980              KEERTHAN S  17-03-2005         200    46   \n",
      "37    38     299620             SUBHA SRI R  30-09-2004         200    48   \n",
      "38    39     289288         UMESH KANNA K B  05-08-2005         200    49   \n",
      "39    40     325749                SRIRAM M  31-05-2005         200    50   \n",
      "40    41     255577         SHAKTHIDHARAN S  06-12-2004         200    51   \n",
      "41    42     251086                INIYAA N  23-12-2004         200    52   \n",
      "42    43     265216   SHARROLINE GLADIA A K  17-01-2005         200    53   \n",
      "43    44     266537                ROSHNI M  24-05-2005         200    54   \n",
      "44    45     250512              VINITHAA P  17-02-2005         200    55   \n",
      "\n",
      "   COMMU\\rNITY  COLLEGE\\rCODE BRANCH\\rCODE ALLOTTED\\rCATEGORY  \n",
      "0           BC              1           CS                 OC  \n",
      "1           BC              1           CS                 OC  \n",
      "2           BC           2006           CM                 OC  \n",
      "3           BC              1           CS                 OC  \n",
      "4           BC              1           CS                 OC  \n",
      "5           OC              1           CS                 OC  \n",
      "6           BC              1           CS                 OC  \n",
      "7           OC              1           BY                 OC  \n",
      "8           OC              1           CS                 OC  \n",
      "9           BC              1           CS                 OC  \n",
      "10          BC              1           CS                 OC  \n",
      "11          BC              1           CS                 OC  \n",
      "12          BC              1           CS                 OC  \n",
      "13          SC              1           CS                 OC  \n",
      "14          BC              1           CS                 OC  \n",
      "15          BC              1           CS                 OC  \n",
      "16          BC              1           CS                 OC  \n",
      "17          BC              1           CS                 BC  \n",
      "18         BCM           5008           CS                 OC  \n",
      "19          BC              1           CS                 BC  \n",
      "20          BC              1           CS                 BC  \n",
      "21          BC              1           CS                 BC  \n",
      "22          BC              1           CS                 BC  \n",
      "23          BC              1           EC                 OC  \n",
      "24          OC           2006           CM                 OC  \n",
      "25          OC              1           CM                 OC  \n",
      "26          BC              1           CS                 BC  \n",
      "27          OC              1           EC                 OC  \n",
      "28          OC           2006           CM                 OC  \n",
      "29          OC              1           CM                 OC  \n",
      "30          OC              1           CM                 OC  \n",
      "31          BC           2006           CM                 OC  \n",
      "32          BC              1           CS                 BC  \n",
      "33         MBC              1           CS                MBC  \n",
      "34          BC              1           CS                 BC  \n",
      "35          OC              1           CM                 OC  \n",
      "36         MBC              1           CS                MBC  \n",
      "37          BC           2006           EC                 OC  \n",
      "38          BC              1           EC                 OC  \n",
      "39          BC              1           CS                 BC  \n",
      "40          BC              1           CS                 BC  \n",
      "41          BC           2006           CM                 OC  \n",
      "42          BC           5008           CS                 OC  \n",
      "43          BC           2006           EC                 OC  \n",
      "44          BC           2006           CM                 OC  \n"
     ]
    }
   ],
   "source": [
    "tb.convert_into(\"dataset_pdf/ac2022.pdf\",\"acp2022.csv\",output_format =\"csv\",pages=\"all\")\n",
    "print(df)"
   ]
  },
  {
   "cell_type": "code",
   "execution_count": 80,
   "metadata": {},
   "outputs": [],
   "source": [
    "check = pd.read_csv(r\"acp2022.csv\")"
   ]
  },
  {
   "cell_type": "code",
   "execution_count": 81,
   "metadata": {},
   "outputs": [
    {
     "data": {
      "text/html": [
       "<div>\n",
       "<style scoped>\n",
       "    .dataframe tbody tr th:only-of-type {\n",
       "        vertical-align: middle;\n",
       "    }\n",
       "\n",
       "    .dataframe tbody tr th {\n",
       "        vertical-align: top;\n",
       "    }\n",
       "\n",
       "    .dataframe thead th {\n",
       "        text-align: right;\n",
       "    }\n",
       "</style>\n",
       "<table border=\"1\" class=\"dataframe\">\n",
       "  <thead>\n",
       "    <tr style=\"text-align: right;\">\n",
       "      <th></th>\n",
       "      <th>S NO</th>\n",
       "      <th>APPLN\\rNO</th>\n",
       "      <th>NAME OF THE CANDIDATE</th>\n",
       "      <th>DOB</th>\n",
       "      <th>AGGR\\rMARK</th>\n",
       "      <th>RANK</th>\n",
       "      <th>COMMU\\rNITY</th>\n",
       "      <th>COLLEGE\\rCODE</th>\n",
       "      <th>BRANCH\\rCODE</th>\n",
       "      <th>ALLOTTED\\rCATEGORY</th>\n",
       "    </tr>\n",
       "  </thead>\n",
       "  <tbody>\n",
       "    <tr>\n",
       "      <th>0</th>\n",
       "      <td>1</td>\n",
       "      <td>331205</td>\n",
       "      <td>Renjitha K</td>\n",
       "      <td>14-10-2004</td>\n",
       "      <td>200</td>\n",
       "      <td>1</td>\n",
       "      <td>BC</td>\n",
       "      <td>1</td>\n",
       "      <td>CS</td>\n",
       "      <td>OC</td>\n",
       "    </tr>\n",
       "    <tr>\n",
       "      <th>1</th>\n",
       "      <td>2</td>\n",
       "      <td>325132</td>\n",
       "      <td>Lokesh Kannan M</td>\n",
       "      <td>04-09-2004</td>\n",
       "      <td>200</td>\n",
       "      <td>3</td>\n",
       "      <td>BC</td>\n",
       "      <td>1</td>\n",
       "      <td>CS</td>\n",
       "      <td>OC</td>\n",
       "    </tr>\n",
       "    <tr>\n",
       "      <th>2</th>\n",
       "      <td>3</td>\n",
       "      <td>269347</td>\n",
       "      <td>PRATEEKSHAA T</td>\n",
       "      <td>21-09-2004</td>\n",
       "      <td>200</td>\n",
       "      <td>6</td>\n",
       "      <td>BC</td>\n",
       "      <td>2006</td>\n",
       "      <td>CM</td>\n",
       "      <td>OC</td>\n",
       "    </tr>\n",
       "    <tr>\n",
       "      <th>3</th>\n",
       "      <td>4</td>\n",
       "      <td>289687</td>\n",
       "      <td>PAVITHRA B</td>\n",
       "      <td>08-10-2004</td>\n",
       "      <td>200</td>\n",
       "      <td>7</td>\n",
       "      <td>BC</td>\n",
       "      <td>1</td>\n",
       "      <td>CS</td>\n",
       "      <td>OC</td>\n",
       "    </tr>\n",
       "    <tr>\n",
       "      <th>4</th>\n",
       "      <td>5</td>\n",
       "      <td>323336</td>\n",
       "      <td>HARIGURU J</td>\n",
       "      <td>09-09-2004</td>\n",
       "      <td>200</td>\n",
       "      <td>8</td>\n",
       "      <td>BC</td>\n",
       "      <td>1</td>\n",
       "      <td>CS</td>\n",
       "      <td>OC</td>\n",
       "    </tr>\n",
       "  </tbody>\n",
       "</table>\n",
       "</div>"
      ],
      "text/plain": [
       "  S NO APPLN\\rNO NAME OF THE CANDIDATE         DOB AGGR\\rMARK RANK  \\\n",
       "0    1    331205            Renjitha K  14-10-2004        200    1   \n",
       "1    2    325132       Lokesh Kannan M  04-09-2004        200    3   \n",
       "2    3    269347         PRATEEKSHAA T  21-09-2004        200    6   \n",
       "3    4    289687            PAVITHRA B  08-10-2004        200    7   \n",
       "4    5    323336            HARIGURU J  09-09-2004        200    8   \n",
       "\n",
       "  COMMU\\rNITY COLLEGE\\rCODE BRANCH\\rCODE ALLOTTED\\rCATEGORY  \n",
       "0          BC             1           CS                 OC  \n",
       "1          BC             1           CS                 OC  \n",
       "2          BC          2006           CM                 OC  \n",
       "3          BC             1           CS                 OC  \n",
       "4          BC             1           CS                 OC  "
      ]
     },
     "execution_count": 81,
     "metadata": {},
     "output_type": "execute_result"
    }
   ],
   "source": [
    "check.head()"
   ]
  },
  {
   "cell_type": "code",
   "execution_count": 82,
   "metadata": {},
   "outputs": [
    {
     "name": "stdout",
     "output_type": "stream",
     "text": [
      "(9423, 10)\n"
     ]
    }
   ],
   "source": [
    "print(check.shape)"
   ]
  },
  {
   "cell_type": "code",
   "execution_count": 83,
   "metadata": {},
   "outputs": [],
   "source": [
    "check.drop(check.index[(check[\"S NO\"] == \"S NO\")],axis=0,inplace=True)"
   ]
  },
  {
   "cell_type": "code",
   "execution_count": 84,
   "metadata": {},
   "outputs": [],
   "source": [
    "check.to_csv(\"acp2022.csv\")"
   ]
  },
  {
   "cell_type": "code",
   "execution_count": 85,
   "metadata": {},
   "outputs": [
    {
     "name": "stdout",
     "output_type": "stream",
     "text": [
      "(9218, 10)\n"
     ]
    }
   ],
   "source": [
    "print(check.shape)"
   ]
  },
  {
   "cell_type": "code",
   "execution_count": 86,
   "metadata": {},
   "outputs": [],
   "source": [
    "def conv(inp,out):\n",
    "  df = tb.read_pdf(inp, encoding='latin-1', pages='all')[0]\n",
    "  tb.convert_into(inp,out,output_format =\"csv\",pages=\"all\")\n",
    "  check = pd.read_csv(out)\n",
    "  check.drop(check.index[(check[\"RANK\"] == \"RANK\")],axis=0,inplace=True)\n",
    "  check.to_csv(out)\n",
    "  print(check.shape)"
   ]
  },
  {
   "cell_type": "code",
   "execution_count": 87,
   "metadata": {},
   "outputs": [
    {
     "name": "stdout",
     "output_type": "stream",
     "text": [
      "(9218, 10)\n"
     ]
    }
   ],
   "source": [
    "conv(\"dataset_pdf/ac2022.pdf\",\"acp2022.csv\")"
   ]
  },
  {
   "cell_type": "code",
   "execution_count": 88,
   "metadata": {},
   "outputs": [
    {
     "name": "stdout",
     "output_type": "stream",
     "text": [
      "(10148, 9)\n"
     ]
    }
   ],
   "source": [
    "conv(\"dataset_pdf/ac2021.pdf\",\"acp2021.csv\")"
   ]
  },
  {
   "cell_type": "code",
   "execution_count": 89,
   "metadata": {},
   "outputs": [
    {
     "name": "stdout",
     "output_type": "stream",
     "text": [
      "(7510, 9)\n"
     ]
    }
   ],
   "source": [
    "conv(\"dataset_pdf/ac2020.pdf\",\"acp2020.csv\")"
   ]
  },
  {
   "cell_type": "code",
   "execution_count": 94,
   "metadata": {},
   "outputs": [],
   "source": [
    "check = pd.read_csv(r\"acp2020.csv\")"
   ]
  },
  {
   "cell_type": "code",
   "execution_count": 95,
   "metadata": {},
   "outputs": [
    {
     "data": {
      "text/plain": [
       "Unnamed: 0               0\n",
       "S.NO                     0\n",
       "APPLICATION\\rNO          0\n",
       "NAME OF THE CANDIDATE    0\n",
       "COMMUNITY                0\n",
       "RANK                     0\n",
       "AGGR\\rMARK               0\n",
       "COLLEGE\\rCODE            0\n",
       "BRANCH\\rCODE             0\n",
       "ALLOTTED\\rCATEGORY       0\n",
       "dtype: int64"
      ]
     },
     "execution_count": 95,
     "metadata": {},
     "output_type": "execute_result"
    }
   ],
   "source": [
    "check.isna().sum()"
   ]
  },
  {
   "cell_type": "code",
   "execution_count": 96,
   "metadata": {},
   "outputs": [
    {
     "ename": "KeyError",
     "evalue": "'RANK'",
     "output_type": "error",
     "traceback": [
      "\u001b[1;31m---------------------------------------------------------------------------\u001b[0m",
      "\u001b[1;31mKeyError\u001b[0m                                  Traceback (most recent call last)",
      "File \u001b[1;32mc:\\Python37\\lib\\site-packages\\pandas\\core\\indexes\\base.py:3802\u001b[0m, in \u001b[0;36mIndex.get_loc\u001b[1;34m(self, key, method, tolerance)\u001b[0m\n\u001b[0;32m   3801\u001b[0m \u001b[39mtry\u001b[39;00m:\n\u001b[1;32m-> 3802\u001b[0m     \u001b[39mreturn\u001b[39;00m \u001b[39mself\u001b[39;49m\u001b[39m.\u001b[39;49m_engine\u001b[39m.\u001b[39;49mget_loc(casted_key)\n\u001b[0;32m   3803\u001b[0m \u001b[39mexcept\u001b[39;00m \u001b[39mKeyError\u001b[39;00m \u001b[39mas\u001b[39;00m err:\n",
      "File \u001b[1;32mc:\\Python37\\lib\\site-packages\\pandas\\_libs\\index.pyx:138\u001b[0m, in \u001b[0;36mpandas._libs.index.IndexEngine.get_loc\u001b[1;34m()\u001b[0m\n",
      "File \u001b[1;32mc:\\Python37\\lib\\site-packages\\pandas\\_libs\\index.pyx:165\u001b[0m, in \u001b[0;36mpandas._libs.index.IndexEngine.get_loc\u001b[1;34m()\u001b[0m\n",
      "File \u001b[1;32mpandas\\_libs\\hashtable_class_helper.pxi:5745\u001b[0m, in \u001b[0;36mpandas._libs.hashtable.PyObjectHashTable.get_item\u001b[1;34m()\u001b[0m\n",
      "File \u001b[1;32mpandas\\_libs\\hashtable_class_helper.pxi:5753\u001b[0m, in \u001b[0;36mpandas._libs.hashtable.PyObjectHashTable.get_item\u001b[1;34m()\u001b[0m\n",
      "\u001b[1;31mKeyError\u001b[0m: 'RANK'",
      "\nThe above exception was the direct cause of the following exception:\n",
      "\u001b[1;31mKeyError\u001b[0m                                  Traceback (most recent call last)",
      "Cell \u001b[1;32mIn[96], line 1\u001b[0m\n\u001b[1;32m----> 1\u001b[0m conv(\u001b[39m\"\u001b[39;49m\u001b[39mdataset_pdf/ac2018.pdf\u001b[39;49m\u001b[39m\"\u001b[39;49m,\u001b[39m\"\u001b[39;49m\u001b[39macp2018.csv\u001b[39;49m\u001b[39m\"\u001b[39;49m)\n",
      "Cell \u001b[1;32mIn[86], line 5\u001b[0m, in \u001b[0;36mconv\u001b[1;34m(inp, out)\u001b[0m\n\u001b[0;32m      3\u001b[0m tb\u001b[39m.\u001b[39mconvert_into(inp,out,output_format \u001b[39m=\u001b[39m\u001b[39m\"\u001b[39m\u001b[39mcsv\u001b[39m\u001b[39m\"\u001b[39m,pages\u001b[39m=\u001b[39m\u001b[39m\"\u001b[39m\u001b[39mall\u001b[39m\u001b[39m\"\u001b[39m)\n\u001b[0;32m      4\u001b[0m check \u001b[39m=\u001b[39m pd\u001b[39m.\u001b[39mread_csv(out)\n\u001b[1;32m----> 5\u001b[0m check\u001b[39m.\u001b[39mdrop(check\u001b[39m.\u001b[39mindex[(check[\u001b[39m\"\u001b[39;49m\u001b[39mRANK\u001b[39;49m\u001b[39m\"\u001b[39;49m] \u001b[39m==\u001b[39m \u001b[39m\"\u001b[39m\u001b[39mRANK\u001b[39m\u001b[39m\"\u001b[39m)],axis\u001b[39m=\u001b[39m\u001b[39m0\u001b[39m,inplace\u001b[39m=\u001b[39m\u001b[39mTrue\u001b[39;00m)\n\u001b[0;32m      6\u001b[0m check\u001b[39m.\u001b[39mto_csv(out)\n\u001b[0;32m      7\u001b[0m \u001b[39mprint\u001b[39m(check\u001b[39m.\u001b[39mshape)\n",
      "File \u001b[1;32mc:\\Python37\\lib\\site-packages\\pandas\\core\\frame.py:3807\u001b[0m, in \u001b[0;36mDataFrame.__getitem__\u001b[1;34m(self, key)\u001b[0m\n\u001b[0;32m   3805\u001b[0m \u001b[39mif\u001b[39;00m \u001b[39mself\u001b[39m\u001b[39m.\u001b[39mcolumns\u001b[39m.\u001b[39mnlevels \u001b[39m>\u001b[39m \u001b[39m1\u001b[39m:\n\u001b[0;32m   3806\u001b[0m     \u001b[39mreturn\u001b[39;00m \u001b[39mself\u001b[39m\u001b[39m.\u001b[39m_getitem_multilevel(key)\n\u001b[1;32m-> 3807\u001b[0m indexer \u001b[39m=\u001b[39m \u001b[39mself\u001b[39;49m\u001b[39m.\u001b[39;49mcolumns\u001b[39m.\u001b[39;49mget_loc(key)\n\u001b[0;32m   3808\u001b[0m \u001b[39mif\u001b[39;00m is_integer(indexer):\n\u001b[0;32m   3809\u001b[0m     indexer \u001b[39m=\u001b[39m [indexer]\n",
      "File \u001b[1;32mc:\\Python37\\lib\\site-packages\\pandas\\core\\indexes\\base.py:3804\u001b[0m, in \u001b[0;36mIndex.get_loc\u001b[1;34m(self, key, method, tolerance)\u001b[0m\n\u001b[0;32m   3802\u001b[0m     \u001b[39mreturn\u001b[39;00m \u001b[39mself\u001b[39m\u001b[39m.\u001b[39m_engine\u001b[39m.\u001b[39mget_loc(casted_key)\n\u001b[0;32m   3803\u001b[0m \u001b[39mexcept\u001b[39;00m \u001b[39mKeyError\u001b[39;00m \u001b[39mas\u001b[39;00m err:\n\u001b[1;32m-> 3804\u001b[0m     \u001b[39mraise\u001b[39;00m \u001b[39mKeyError\u001b[39;00m(key) \u001b[39mfrom\u001b[39;00m \u001b[39merr\u001b[39;00m\n\u001b[0;32m   3805\u001b[0m \u001b[39mexcept\u001b[39;00m \u001b[39mTypeError\u001b[39;00m:\n\u001b[0;32m   3806\u001b[0m     \u001b[39m# If we have a listlike key, _check_indexing_error will raise\u001b[39;00m\n\u001b[0;32m   3807\u001b[0m     \u001b[39m#  InvalidIndexError. Otherwise we fall through and re-raise\u001b[39;00m\n\u001b[0;32m   3808\u001b[0m     \u001b[39m#  the TypeError.\u001b[39;00m\n\u001b[0;32m   3809\u001b[0m     \u001b[39mself\u001b[39m\u001b[39m.\u001b[39m_check_indexing_error(key)\n",
      "\u001b[1;31mKeyError\u001b[0m: 'RANK'"
     ]
    }
   ],
   "source": [
    "conv(\"dataset_pdf/ac2018.pdf\",\"acp2018.csv\")"
   ]
  },
  {
   "cell_type": "code",
   "execution_count": 97,
   "metadata": {},
   "outputs": [
    {
     "name": "stdout",
     "output_type": "stream",
     "text": [
      "(6909, 10)\n"
     ]
    }
   ],
   "source": [
    "conv(\"dataset_pdf/ac2019.pdf\",\"acp2019.csv\")"
   ]
  },
  {
   "cell_type": "code",
   "execution_count": null,
   "metadata": {},
   "outputs": [],
   "source": []
  }
 ],
 "metadata": {
  "kernelspec": {
   "display_name": "Python 3",
   "language": "python",
   "name": "python3"
  },
  "language_info": {
   "codemirror_mode": {
    "name": "ipython",
    "version": 3
   },
   "file_extension": ".py",
   "mimetype": "text/x-python",
   "name": "python",
   "nbconvert_exporter": "python",
   "pygments_lexer": "ipython3",
   "version": "3.10.5"
  },
  "orig_nbformat": 4,
  "vscode": {
   "interpreter": {
    "hash": "d49c3f6d6dd49f9272b571d9fad348ab55b8c6c3f691520d74ed0af1f69c3dd8"
   }
  }
 },
 "nbformat": 4,
 "nbformat_minor": 2
}
